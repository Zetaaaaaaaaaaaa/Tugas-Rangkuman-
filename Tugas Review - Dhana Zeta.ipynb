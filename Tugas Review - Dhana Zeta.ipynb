{
 "cells": [
  {
   "cell_type": "markdown",
   "id": "5f6e05f2-e126-462d-a30f-1c7e185a5c03",
   "metadata": {},
   "source": [
    "# Dhana Zeta Pangestu"
   ]
  },
  {
   "cell_type": "markdown",
   "id": "154e9c73-17f0-44d1-8ffa-369a8e911876",
   "metadata": {},
   "source": [
    "# 103102400064"
   ]
  },
  {
   "cell_type": "markdown",
   "id": "125ef0cc-9946-4bb5-8c69-15057786b647",
   "metadata": {},
   "source": [
    "## Pertemuan 1 - Pengenalan Python\n"
   ]
  },
  {
   "cell_type": "code",
   "execution_count": null,
   "id": "5e5e772e-40a6-4bce-bec5-298d010efdbe",
   "metadata": {},
   "outputs": [],
   "source": [
    "\"hello world\""
   ]
  },
  {
   "cell_type": "code",
   "execution_count": null,
   "id": "83943f66-05d6-442f-953d-09eb9f658b18",
   "metadata": {},
   "outputs": [],
   "source": [
    "print('Hello World')"
   ]
  },
  {
   "cell_type": "code",
   "execution_count": null,
   "id": "62e0dba0-2523-4087-8bbd-a841e0361cd7",
   "metadata": {},
   "outputs": [],
   "source": [
    "a = 2.2\n",
    "print(\"Tipe data\", a, \"adalah\", type(a))"
   ]
  },
  {
   "cell_type": "code",
   "execution_count": 38,
   "id": "77fa578a-67ad-49f0-b264-7c893c20ef5b",
   "metadata": {},
   "outputs": [
    {
     "name": "stdout",
     "output_type": "stream",
     "text": [
      "Tipe data Zeta adalah <class 'str'>\n"
     ]
    }
   ],
   "source": [
    "b=\"Zeta\"\n",
    "print(\"Tipe data\", b, \"adalah\", type(b))"
   ]
  },
  {
   "cell_type": "code",
   "execution_count": 4,
   "id": "77f73ca5-e953-4ef0-8075-5586d9bbd567",
   "metadata": {},
   "outputs": [
    {
     "name": "stdout",
     "output_type": "stream",
     "text": [
      "True\n",
      "Tipe data True adalah <class 'bool'>\n"
     ]
    }
   ],
   "source": [
    "c=3>0\n",
    "print(c)\n",
    "print(\"Tipe data\", c, \"adalah\", type(c))"
   ]
  },
  {
   "cell_type": "code",
   "execution_count": 40,
   "id": "7439c4ad-3d34-4c63-a20b-15053597e95b",
   "metadata": {},
   "outputs": [
    {
     "name": "stdout",
     "output_type": "stream",
     "text": [
      "Tipe data 10000 adalah <class 'int'>\n"
     ]
    }
   ],
   "source": [
    "d=10000\n",
    "print(\"Tipe data\", d, \"adalah\", type(d))"
   ]
  },
  {
   "cell_type": "code",
   "execution_count": null,
   "id": "7649b7d3-e8d6-4909-94bb-179d04e032c0",
   "metadata": {},
   "outputs": [],
   "source": [
    "nama = \"Dhana Zeta Pangestu\"\n",
    "usia = 19\n",
    "print(\"Nama saya adalah\", nama, \"dan usia saya adalah \", usia)"
   ]
  },
  {
   "cell_type": "code",
   "execution_count": 42,
   "id": "e7490e03-31c3-47e1-a617-7599a9f7e630",
   "metadata": {},
   "outputs": [
    {
     "name": "stdout",
     "output_type": "stream",
     "text": [
      "<class 'str'>\n",
      "<class 'int'>\n",
      "<class 'float'>\n",
      "<class 'bool'>\n"
     ]
    }
   ],
   "source": [
    "nama = \"Dhana Zeta\"\n",
    "usia = 19\n",
    "tinggi = 1.7\n",
    "benar = True\n",
    "print(type(nama))\n",
    "print(type(usia))\n",
    "print(type(tinggi))\n",
    "print(type(benar))"
   ]
  },
  {
   "cell_type": "markdown",
   "id": "2adf3e2f-c52f-49e9-913b-01c71864d7af",
   "metadata": {},
   "source": [
    "##  Pertemuan 2 - Tipe data & Operator Python"
   ]
  },
  {
   "cell_type": "markdown",
   "id": "59c4d6c2-7439-4295-b8f5-de005766fc34",
   "metadata": {},
   "source": [
    "Fungsi print() digunakan untuk mencetak ouput program di layar"
   ]
  },
  {
   "cell_type": "code",
   "execution_count": 57,
   "id": "451a1210-e467-4066-a3f5-483f7054a496",
   "metadata": {},
   "outputs": [
    {
     "name": "stdout",
     "output_type": "stream",
     "text": [
      "Hello, World!\n"
     ]
    }
   ],
   "source": [
    "print(\"Hello, World!\")"
   ]
  },
  {
   "cell_type": "code",
   "execution_count": 63,
   "id": "46834cc8-5bcb-4595-8fb6-0c0dd8c2d08d",
   "metadata": {},
   "outputs": [
    {
     "name": "stdout",
     "output_type": "stream",
     "text": [
      "Komentar tidak akan mengeluarkan output apapun\n"
     ]
    }
   ],
   "source": [
    "# ini namanya komentar gaes!!!\n",
    "\"\"\"\n",
    "ini juga komentar gaes, tapi bisa banyak baris\n",
    "ini juga komentar gaes, tapi bisa banyak baris\n",
    "ini juga komentar gaes, tapi bisa banyak baris\n",
    "ini juga komentar gaes, tapi bisa banyak baris\n",
    "\"\"\"\n",
    "print(\"Komentar tidak akan mengeluarkan output apapun\")"
   ]
  },
  {
   "cell_type": "markdown",
   "id": "03e291f5-5d1a-4f25-8c9a-ccb8d7984404",
   "metadata": {},
   "source": [
    "### Variable"
   ]
  },
  {
   "cell_type": "markdown",
   "id": "502e7019-df44-4f2a-bc83-f014ba1cf91b",
   "metadata": {},
   "source": [
    "Aturan Penulisan Variabel:\n",
    "\n",
    "-\n",
    " Nama variabel boleh diawali menggunakan huruf atau garis bawah _. Contoh: nama, _nama, namaKu, nama_variabe\n",
    "- \n",
    " Karakter selanjutnya dapat berupa huruf, garis bawah _ atau angka. Contoh: __nama, n2, nila\n",
    "- \n",
    " Variabel tidak boleh dimulai dengan angka ataupun simb\n",
    "- .\n",
    " Variabel tidak boleh berupa kata kunci (keyword) yang ada dalam Python. Contoh: if, else, while, for, dan masih banyak lagi"
   ]
  },
  {
   "cell_type": "code",
   "execution_count": 69,
   "id": "f1a5f9e9-a56a-4d78-84b8-d7f40cbeffdc",
   "metadata": {},
   "outputs": [],
   "source": [
    "# Variabel\n",
    "Nama = \"Dhana Zeta Pangestu\"\n",
    "umur = 19\n",
    "status_pernikahan = \"Belum Menikah\"\n",
    "statuspernikahan = \"Menikah\""
   ]
  },
  {
   "cell_type": "markdown",
   "id": "3354e018-1749-4d5c-bbc6-417cc5821948",
   "metadata": {},
   "source": [
    "### Tipe Data"
   ]
  },
  {
   "cell_type": "markdown",
   "id": "f4dac180-2eea-4384-bbb7-791a8cc022d2",
   "metadata": {},
   "source": [
    "Tipe data pertama yang akan kita bahas adalah tipe data numerik. Dalam tipe data numerik, terdapat dua jenis tipe data:\n",
    "- int, untuk nilai-nilai bilangan bulat\n",
    "- float, untuk nilai-nilai bilangan desimal atau real\n",
    "- complex, untuk nilai-nilai bilanga kompleks"
   ]
  },
  {
   "cell_type": "code",
   "execution_count": 98,
   "id": "b43c338d-181c-4142-a394-3dccfde251cd",
   "metadata": {},
   "outputs": [
    {
     "name": "stdout",
     "output_type": "stream",
     "text": [
      "Nama: Dhana Zeta dan Umur: 18\n",
      "Nama: Dhana Zeta dan Umur: 18\n",
      "\n",
      "\n",
      "Dhana\n",
      "dan\n",
      "Zeta\n"
     ]
    }
   ],
   "source": [
    "# Tipe data\n",
    "bilangan_bulat = 10\n",
    "bilangan_desimal = 3.14\n",
    "teks = \"Halo, Semuanya!\"\n",
    "teks_multibaris = '''Dhana\n",
    "dan\n",
    "Zeta'''\n",
    "boolean = True\n",
    "\n",
    "# Menampilkan nilai variabel\n",
    "print('Nama:', nama, 'dan Umur:', umur)\n",
    "print(f\"Nama: {nama} dan Umur: {umur}\")\n",
    "print('\\n')\n",
    "print(teks_multibaris)"
   ]
  },
  {
   "cell_type": "markdown",
   "id": "60f0bb6e-1246-4111-af84-67d020d24499",
   "metadata": {},
   "source": [
    "### MultiStatment Variabel\n",
    "\n",
    "MultiStatement Variable dalam Python biasanya digunakan ketika ingin menyimpan atau menulis string atau kode dalam beberapa baris untuk meningkatkan keterbacaan atau menghindari batasan panjang baris."
   ]
  },
  {
   "cell_type": "code",
   "execution_count": 107,
   "id": "d1707ab1-ea30-4069-b100-f4fcdd8d4b38",
   "metadata": {},
   "outputs": [],
   "source": [
    "nama = \"Dhana Zeta\"\n",
    "a = 10; b = 9\n",
    "kesibukan, keterangan = 'Berkuliah','Institut Teknologi Telkom Surabaya'"
   ]
  },
  {
   "cell_type": "code",
   "execution_count": 109,
   "id": "08269a57-8f7d-4eaa-8e68-fcdb932e7765",
   "metadata": {},
   "outputs": [
    {
     "name": "stdout",
     "output_type": "stream",
     "text": [
      "Nama saya Dhana Zeta dan Umur saya adalah 19 Tahun dan sedang Berkuliah di Institut Teknologi Telkom Surabaya\n"
     ]
    }
   ],
   "source": [
    " print(f\"Nama saya {nama} dan Umur saya adalah {a+b} Tahun dan sedang {kesibukan} di {keterangan}\")"
   ]
  },
  {
   "cell_type": "markdown",
   "id": "c4aa0494-c93b-483b-accf-0899b2e25360",
   "metadata": {},
   "source": [
    "###  Input dari Pengguna\n",
    "\n",
    "Di Python, dapat meminta input dari pengguna menggunakan fungsi bawaan input(). Fungsi ini membaca input dari pengguna sebagai string secara\n",
    " default."
   ]
  },
  {
   "cell_type": "code",
   "execution_count": 131,
   "id": "7b44948c-9929-4bc5-a71f-0dbb0ca12d28",
   "metadata": {},
   "outputs": [
    {
     "name": "stdout",
     "output_type": "stream",
     "text": [
      "Masukkan nama Anda:  Zeta 60000\n",
      "Berapa harganya?:  600000\n"
     ]
    },
    {
     "name": "stdout",
     "output_type": "stream",
     "text": [
      "\n",
      "\n",
      "Halo, aku Zeta 60000 dan aku sudah makan soto yang harganya Rp 600000\n"
     ]
    }
   ],
   "source": [
    "nama = input(\"Masukkan nama Anda: \")\n",
    "makan = 'sudah'\n",
    "harga = int(input(\"Berapa harganya?: \"))\n",
    "print('\\n')\n",
    "print(\"Halo, aku\", nama, 'dan aku', makan, 'makan soto yang harganya Rp', harga)"
   ]
  },
  {
   "cell_type": "markdown",
   "id": "343dc5cf-2344-4036-bcce-2d12febf8851",
   "metadata": {},
   "source": [
    "### Operator Aritmatika\n",
    "- Penjumlahan (+): Menjumlahkan nilai dari masing-masing operan atau bilangan\n",
    "- Pengurangan (-): Mengurangi nilai operan di sebelah kiri menggunakan operan di sebelah kanan\n",
    "- Perkalian (*): Mengalikan operan/bilangan\n",
    "- Pembagian (/): Untuk membagi operan di sebelah kiri menggunakan operan di sebelah kanan\n",
    "- Sisa Bagi (%): Mendapatkan sisa pembagian dari operan di sebelah kiri operator ketika dibagi oleh operan di sebelah kanan\n",
    "- Pangkat (**): Memangkatkan operan disebelah kiri operator dengan operan di sebelah kanan operator\n",
    "- Pembagian Bulat (//): Sama seperti pembagian. Hanya saja angka dibelakang koma dihilangkan"
   ]
  },
  {
   "cell_type": "code",
   "execution_count": 135,
   "id": "786f6bc1-fc6f-45ee-861d-b4c4249960b2",
   "metadata": {},
   "outputs": [
    {
     "name": "stdout",
     "output_type": "stream",
     "text": [
      "15\n",
      "16\n",
      "Sisa hutang Anda adalah  5000\n",
      "216\n",
      "Setiap anak akan mendapatkan bagian kue sebanyak  4.0\n",
      "Sisa bagi dari bilangan  14  dan  5  adalah  4\n",
      "64\n",
      "3\n"
     ]
    }
   ],
   "source": [
    " #Operator Aritmatika\n",
    " #Penjumlahan\n",
    " print(13+2)\n",
    " apel = 7\n",
    " jeruk = 9\n",
    " buah = mangga + apel\n",
    " print(buah)\n",
    "\n",
    " #Pengurangan\n",
    " hutang = 10000\n",
    " bayar = 5000\n",
    " sisaHutang = hutang - bayar\n",
    " print(\"Sisa hutang Anda adalah \", sisaHutang)\n",
    "\n",
    " #Perkalian\n",
    " panjang = 36\n",
    " lebar = 6\n",
    " luas = panjang * lebar\n",
    " print(luas)\n",
    "\n",
    " #Pembagian\n",
    " kue = 20\n",
    " anak = 5\n",
    " kuePerAnak = kue / anak\n",
    " print(\"Setiap anak akan mendapatkan bagian kue sebanyak \", kuePerAnak)\n",
    "\n",
    " #Sisa Bagi / Modulus\n",
    " bilangan1 = 14\n",
    " bilangan2 = 5\n",
    " hasil = bilangan1 % bilangan2\n",
    " print(\"Sisa bagi dari bilangan \", bilangan1, \" dan \", bilangan2, \" adalah \", hasil)\n",
    "\n",
    " #Pangkat\n",
    " bilangan3 = 8\n",
    " bilangan4 = 2\n",
    " hasilPangkat = bilangan3 ** bilangan4\n",
    " print(hasilPangkat)\n",
    "\n",
    " #Pembagian Bulat\n",
    " print(10//3)\n",
    " #10 dibagi 3 adalah 3.3333. Karena dibulatkan maka akan menghasilkan nilai 3"
   ]
  },
  {
   "cell_type": "markdown",
   "id": "4ca604eb-79b1-4b07-a917-4f1f55368f43",
   "metadata": {},
   "source": [
    " ## Pertemuan 3 - Tipe Data dan Analisis Masalah\n",
    "\n",
    " #### Tipe Data Boolean\n",
    " \n",
    " Tipe data boolean adalah tipe data yang digunakan untuk mempresentasikan nilai kebenaran. Data ini akan erat kaitannya dengan logika\n",
    " matematika, dimana datanya hanya akan terdiri dari dua jenis, yaitu TRUE dan FALSE. Misalkan kita ingin menguji apakah data yang pertama lebih\n",
    " besar dari data yang kedua, jika benar maka Python akan menampilkan output TRUE, sementara jika salah maka akan menampilkan output FALSE."
   ]
  },
  {
   "cell_type": "code",
   "execution_count": 141,
   "id": "0e5c574c-2007-4efc-85bf-9ab64805dca3",
   "metadata": {},
   "outputs": [
    {
     "name": "stdout",
     "output_type": "stream",
     "text": [
      "False\n",
      "True\n"
     ]
    }
   ],
   "source": [
    "a = True\n",
    "b = False \n",
    "print(a and b)\n",
    "print(a or b)"
   ]
  },
  {
   "cell_type": "code",
   "execution_count": null,
   "id": "642ac3a7-aac9-4cfc-a25d-402cdf00d10e",
   "metadata": {},
   "outputs": [],
   "source": [
    "x = True\n",
    "y = False\n",
    "print(10 > 5)\n",
    "print(10 < 5)"
   ]
  },
  {
   "cell_type": "markdown",
   "id": "d1d30dd0-98d4-4881-968d-ba8ef109e290",
   "metadata": {},
   "source": [
    " #### Operasi Perbandingan\n",
    " \n",
    " Operator perbandingan (comparison operators) digunakan untuk membandingkan suatu nilai dari masing-masing operan.\n",
    " \n",
    "- Sama dengan (==) : bernilai True Jika masing-masing operan memiliki nilai yang sama, maka kondisi bernilai benar atau True.\n",
    "- Tidak sama dengan (<>) : bernilai False Akan menghasilkan nilai kebalikan dari kondisi sebenarnya.\n",
    "- Lebih besar dari (>) : bernilai True Jika nilai operan kiri lebih besar dari nilai operan kanan, maka kondisi menjadi benar.\n",
    "- Lebih kecil dari (<) : bernilai True Jika nilai operan kiri lebih kecil dari nilai operan kanan, maka kondisi menjadi benar.\n",
    "- Lebih besar atau sama dengan (>=) : bernilai True Jika nilai operan kiri lebih besar dari nilai operan kanan, atau sama, maka kondisi menjadi\n",
    " benar.\n",
    "- Lebih kecil atau sama dengan (<=) : bernilai True Jika nilai operan kiri lebih kecil dari nilai operan kanan, atau sama, maka kondisi menjadi\n",
    " benar."
   ]
  },
  {
   "cell_type": "code",
   "execution_count": 145,
   "id": "428527da-09d3-4f1e-86c9-7ab78f356182",
   "metadata": {},
   "outputs": [
    {
     "name": "stdout",
     "output_type": "stream",
     "text": [
      "True\n",
      "False\n",
      "False\n",
      "True\n",
      "True\n",
      "False\n",
      "True\n",
      "False\n"
     ]
    }
   ],
   "source": [
    "#Operasi Perbandingan\n",
    "\n",
    "# SAMA DENGAN\n",
    "print(1 == 1) # Hasilnya akan bernilai True karena satu sama dengan satu\n",
    "print(1 == 2) # Hasilnya akan bernilai False karena satu tidak sama dengan dua\n",
    "\n",
    "# TIDAK SAMA DENGAN\n",
    "print(2 != 2) # Hasilnya akan bernilai False karena dua seharusnya sama dengan dua\n",
    "print(2 != 3) # Hasilnya akan bernilai True karena dua tidak sama dengan tiga\n",
    "\n",
    "# LEBIH BESAR DARI\n",
    "print(5 > 3) # Hasilnya akan bernilai True karena lima lebih besar dari tiga\n",
    "\n",
    "# LEBIH KECIL DARI\n",
    "print(5 < 3) # Hasilnya akan bernilai False karena lima tidak lebih besar dari tiga\n",
    "\n",
    "# LEBIH BESAR DARI SAMA DENGAN\n",
    "print(5 >= 3) # Hasilnya akan bernilai True karena lima lebih besar dari sama dengan tiga\n",
    "\n",
    "# LEBIH KECIL DARI SAMA DENGAN\n",
    "print(5 <= 3) # Hasilnya akan bernilai False karena lima tidak lebih besar dari sama dengan tiga"
   ]
  },
  {
   "cell_type": "markdown",
   "id": "036d4563-f657-4a03-8e1b-9eb661ff9714",
   "metadata": {},
   "source": [
    "#### Tipe Data String\n",
    "\n",
    "Tipe data ini merupakan tipe data yang berkaitan erat dengan data yang bentuknya teks. Dalam proses analisis data, data yang kita butuhkan\n",
    "terkadang tidak hanya data numerik, namun juga data string. Dengan memahami tipe data ini, kita akan bisa memprosesnya dengan lebih mudah."
   ]
  },
  {
   "cell_type": "code",
   "execution_count": 149,
   "id": "710fc831-f0c6-48d4-bd65-bef688180381",
   "metadata": {},
   "outputs": [
    {
     "name": "stdout",
     "output_type": "stream",
     "text": [
      "Dhana Zeta Pangestu\n"
     ]
    }
   ],
   "source": [
    "nama = \"Dhana Zeta Pangestu\"\n",
    "print(nama)"
   ]
  },
  {
   "cell_type": "code",
   "execution_count": 153,
   "id": "7be25cb7-24a9-454d-9e62-19fa950419d5",
   "metadata": {},
   "outputs": [
    {
     "name": "stdout",
     "output_type": "stream",
     "text": [
      "Halo Dhana Zeta Pangestu\n"
     ]
    }
   ],
   "source": [
    "sapa = \"Halo\"\n",
    "nama = \"Dhana Zeta Pangestu\"\n",
    "kalimat = sapa + \" \" + nama\n",
    "print(kalimat)"
   ]
  },
  {
   "cell_type": "markdown",
   "id": "af35efab-ea0e-44fa-85a8-9f9da0b3aa19",
   "metadata": {},
   "source": [
    " ## Pertemuan 4-Perulangan(dengan For-Loop)\n",
    "\n",
    "#### Perulangan (Looping)\n",
    " Secara umum, looping atau perulangan pada Python adalah instruksi kode program yang dieksekusi berulang kali. Fungsinya untuk memerinta \n",
    " komputer melakukan sesuatu secara berulang-ulang dengan jumlah tertentu selama sebuah kondisi yang telah ditentukan masih terpenuhi. Pythn\n",
    " memiliki dua jenis perulangan utama: for loop dan while lo\n",
    "\n",
    "#### 1. For Loop\n",
    " Digunakan untuk mengulangi elemen dalam urutan (seperti list, tuple, string, atau range).op."
   ]
  },
  {
   "cell_type": "code",
   "execution_count": 191,
   "id": "1270e020-8798-41b3-8fa6-c90e39ae1374",
   "metadata": {},
   "outputs": [
    {
     "name": "stdout",
     "output_type": "stream",
     "text": [
      "apel\n",
      "mangga\n",
      "sirsak\n",
      "\n",
      "P\n",
      "y\n",
      "t\n",
      "h\n",
      "o\n",
      "n\n",
      "\n",
      "0\n",
      "1\n",
      "2\n",
      "3\n",
      "4\n",
      "2\n",
      "3\n",
      "4\n",
      "5\n"
     ]
    }
   ],
   "source": [
    "#Loop Melalui List\n",
    "buah = [\"apel\", \"mangga\", \"sirsak\"]\n",
    "for buah in buah:\n",
    "    print(buah)\n",
    "print()\n",
    "\n",
    "#Loop Melalui String\n",
    "text = \"Python\"\n",
    "for char in text:\n",
    "    print(char)\n",
    "print()\n",
    "\n",
    "#Loop dengan Range\n",
    "# Angka dari 0 hingga 4\n",
    "for i in range(5):\n",
    "    print(i)\n",
    "    \n",
    "# Angka dari 2 hingga 5\n",
    "for i in range(2, 6):\n",
    "    print(i)"
   ]
  },
  {
   "cell_type": "markdown",
   "id": "c830b562-82f9-49a9-8a4d-9dcec20d4b5a",
   "metadata": {},
   "source": [
    "#### 2. while Loop\n",
    "Digunakan untuk mengulang blok kode selama kondisi bernilai True."
   ]
  },
  {
   "cell_type": "code",
   "execution_count": 194,
   "id": "8c51ec1f-e6a0-4b0c-889f-8f3d95c56f1c",
   "metadata": {},
   "outputs": [
    {
     "name": "stdout",
     "output_type": "stream",
     "text": [
      "Ulang lagi tidak?  6\n"
     ]
    },
    {
     "name": "stdout",
     "output_type": "stream",
     "text": [
      "Total perulagan: 1\n",
      "\n",
      "10\n",
      "8\n",
      "6\n",
      "4\n",
      "2\n",
      "\n",
      "0\n",
      "1\n",
      "2\n",
      "1\n",
      "2\n",
      "4\n",
      "5\n"
     ]
    }
   ],
   "source": [
    "#Bentuk umum:\n",
    "jawab = 'ya'\n",
    "hitung = 0\n",
    "\n",
    "while(jawab == 'ya'):\n",
    "    hitung += 1\n",
    "    jawab = input(\"Ulang lagi tidak? \")\n",
    "print(f\"Total perulagan: {hitung}\")\n",
    "print()\n",
    "\n",
    "#While dengan Kondisi\n",
    "number = 10\n",
    "while number > 0:\n",
    "    print(number)\n",
    "    number -= 2\n",
    "print()\n",
    "\n",
    "#While dengan Break dan Continue\n",
    "count = 0\n",
    "while count < 5:\n",
    "    if count == 3:\n",
    "        break  \n",
    "    print(count)\n",
    "    count += 1\n",
    "\n",
    "count = 0\n",
    "while count < 5:\n",
    "    count += 1\n",
    "    if count == 3:\n",
    "        continue  \n",
    "    print(count)"
   ]
  },
  {
   "cell_type": "markdown",
   "id": "4746f618-f3a8-49b6-bb51-0b079bb3af78",
   "metadata": {},
   "source": [
    "### Percabangan If Else"
   ]
  },
  {
   "cell_type": "markdown",
   "id": "903fe9bd-3da1-464f-a5c5-ac69158b063c",
   "metadata": {},
   "source": [
    "#### 1. Percabangan 'If' (Single Alternative Selection):"
   ]
  },
  {
   "cell_type": "code",
   "execution_count": 202,
   "id": "d5ab311d-2d39-4531-8ca2-fdb31e8cdce8",
   "metadata": {},
   "outputs": [
    {
     "name": "stdout",
     "output_type": "stream",
     "text": [
      "Anda sudah dewasa.\n"
     ]
    }
   ],
   "source": [
    "umur = 19\n",
    "if umur >= 19:\n",
    "    print(\"Anda sudah dewasa.\")"
   ]
  },
  {
   "cell_type": "code",
   "execution_count": 204,
   "id": "072da43e-4846-4a7c-9f3f-e4258c4e8b39",
   "metadata": {},
   "outputs": [
    {
     "name": "stdout",
     "output_type": "stream",
     "text": [
      "Selamat! Anda lulus.\n"
     ]
    }
   ],
   "source": [
    "nilai = 85\n",
    "if nilai >= 75:\n",
    "    print(\"Selamat! Anda lulus.\")"
   ]
  },
  {
   "cell_type": "markdown",
   "id": "3d4b4253-ac07-4861-b9d2-4b161966dfdb",
   "metadata": {},
   "source": [
    "#### 2. Percabangan 'If-Else' (Dual Alternative Selection):"
   ]
  },
  {
   "cell_type": "code",
   "execution_count": 209,
   "id": "63d3850a-28ad-4f63-b6bd-473cfb02cb61",
   "metadata": {},
   "outputs": [
    {
     "name": "stdout",
     "output_type": "stream",
     "text": [
      "Anda lulus.\n"
     ]
    }
   ],
   "source": [
    "nilai = 82\n",
    "if nilai >= 60:\n",
    "    print(\"Anda lulus.\")\n",
    "else:\n",
    "    print(\"Anda belum lulus.\")"
   ]
  },
  {
   "cell_type": "code",
   "execution_count": 211,
   "id": "d6a3430b-7c07-4856-89d5-93ad4a678719",
   "metadata": {},
   "outputs": [
    {
     "name": "stdout",
     "output_type": "stream",
     "text": [
      "7 adalah bilangan ganjil.\n"
     ]
    }
   ],
   "source": [
    "angka = 7\n",
    "if angka % 2 == 0:\n",
    "    print(f\"{angka} adalah bilangan genap.\")\n",
    "else:\n",
    "    print(f\"{angka} adalah bilangan ganjil.\")"
   ]
  },
  {
   "cell_type": "markdown",
   "id": "3b15633d-d3bb-4a14-bb32-b45b9e4d2c81",
   "metadata": {},
   "source": [
    "####  3. Percabangan 'If-Elif-Else' (Multiple Alternative Selection):"
   ]
  },
  {
   "cell_type": "code",
   "execution_count": 216,
   "id": "53a2c4d4-6a19-4d7d-a5ec-8af0c7882a6a",
   "metadata": {},
   "outputs": [
    {
     "name": "stdout",
     "output_type": "stream",
     "text": [
      "Ini adalah hari Jumat.\n"
     ]
    }
   ],
   "source": [
    "nomor_hari = 5\n",
    "if nomor_hari == 1:\n",
    "    print(\"Ini adalah hari Senin.\")\n",
    "elif nomor_hari == 2:\n",
    "    print(\"Ini adalah hari Selasa.\")\n",
    "elif nomor_hari == 3:\n",
    "    print(\"Ini adalah hari Rabu.\")\n",
    "elif nomor_hari == 4:\n",
    "    print(\"Ini adalah hari Kamis.\")\n",
    "elif nomor_hari == 5:\n",
    "    print(\"Ini adalah hari Jumat.\")\n",
    "else:\n",
    "    print(\"Ini adalah hari akhir pekan.\")"
   ]
  },
  {
   "cell_type": "code",
   "execution_count": 218,
   "id": "2189bd94-5226-43d4-9cdf-58ab18f379e6",
   "metadata": {},
   "outputs": [
    {
     "name": "stdout",
     "output_type": "stream",
     "text": [
      "Cuaca sangat panas.\n"
     ]
    }
   ],
   "source": [
    "suhu = 32\n",
    "if suhu > 30:\n",
    "    print(\"Cuaca sangat panas.\")\n",
    "elif suhu > 20:\n",
    "    print(\"Cuaca hangat.\")\n",
    "elif suhu > 10:\n",
    "    print(\"Cuaca sejuk.\")\n",
    "else:\n",
    "    print(\"Cuaca dingin.\")"
   ]
  },
  {
   "cell_type": "markdown",
   "id": "8dd3c87b-f948-40cb-959c-2052f7ebb169",
   "metadata": {},
   "source": [
    " #### 4. Percabangan Bersarang (Nested If)"
   ]
  },
  {
   "cell_type": "code",
   "execution_count": 223,
   "id": "350842dc-09ec-4291-825e-7a27cd89dd93",
   "metadata": {},
   "outputs": [
    {
     "name": "stdout",
     "output_type": "stream",
     "text": [
      "Anda sudah dewasa dan belum menikah.\n"
     ]
    }
   ],
   "source": [
    "usia = 25\n",
    "status_pernikahan = \"belum menikah\"\n",
    "if usia >= 18:\n",
    "    if status_pernikahan == \"menikah\":\n",
    "        print(\"Anda sudah dewasa dan menikah.\")\n",
    "    else:\n",
    "        print(\"Anda sudah dewasa dan belum menikah.\")\n",
    "else:\n",
    "    print(\"Anda masih remaja.\")"
   ]
  },
  {
   "cell_type": "code",
   "execution_count": 227,
   "id": "d6bf3c65-938e-4cc5-894e-ad191ef20937",
   "metadata": {},
   "outputs": [
    {
     "name": "stdout",
     "output_type": "stream",
     "text": [
      "Anda layak mendapatkan beasiswa penuh!\n"
     ]
    }
   ],
   "source": [
    "nilai = 90\n",
    "prestasi = True\n",
    "if nilai >= 85:\n",
    "    if prestasi:\n",
    "        print(\"Anda layak mendapatkan beasiswa penuh!\")\n",
    "    else:\n",
    "        print(\"Anda layak mendapatkan beasiswa sebagian.\")\n",
    "else:\n",
    "    print(\"Maaf, Anda tidak layak mendapatkan beasiswa.\")"
   ]
  }
 ],
 "metadata": {
  "kernelspec": {
   "display_name": "Python 3 (ipykernel)",
   "language": "python",
   "name": "python3"
  },
  "language_info": {
   "codemirror_mode": {
    "name": "ipython",
    "version": 3
   },
   "file_extension": ".py",
   "mimetype": "text/x-python",
   "name": "python",
   "nbconvert_exporter": "python",
   "pygments_lexer": "ipython3",
   "version": "3.12.4"
  }
 },
 "nbformat": 4,
 "nbformat_minor": 5
}
